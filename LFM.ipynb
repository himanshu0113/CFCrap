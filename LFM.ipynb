{
 "cells": [
  {
   "cell_type": "code",
   "execution_count": 38,
   "metadata": {},
   "outputs": [
    {
     "name": "stdout",
     "output_type": "stream",
     "text": [
      "[[9 1 6 ..., 1 8 5]\n",
      " [4 7 7 ..., 5 5 3]\n",
      " [2 2 7 ..., 2 2 1]\n",
      " ..., \n",
      " [9 2 4 ..., 5 4 9]\n",
      " [4 2 8 ..., 5 7 5]\n",
      " [9 2 3 ..., 1 5 6]]\n"
     ]
    }
   ],
   "source": [
    "import numpy as np\n",
    "R = np.random.randint(1, 10, (100, 100))\n",
    "print R"
   ]
  },
  {
   "cell_type": "code",
   "execution_count": 39,
   "metadata": {
    "collapsed": true
   },
   "outputs": [],
   "source": [
    "k = 40\n",
    "def func(R, k):\n",
    "    #U, s1, V1 = np.linalg.svd(R, full_matrices=True)\n",
    "    U = np.random.randint(1, 10, (100, 40))\n",
    "    V = []\n",
    "    I = np.identity(40)\n",
    "    lamda = 0.1\n",
    "    for i in range(1, 10):\n",
    "        V = np.linalg.solve(np.add(np.dot(U.T,U), lamda*I),np.dot(U.T, R))\n",
    "        X = np.linalg.solve(np.dot(V, V.T), np.dot(V,R.T))\n",
    "        U = X.T\n",
    "        for i in range(len(U)):\n",
    "            for j in range(len(U[0])):\n",
    "                if U[i][j]<0:\n",
    "                    U[i][j] = 0\n",
    "        for i in range(len(V)):\n",
    "            for j in range(len(V[0])):\n",
    "                if V[i][j]<0:\n",
    "                    V[i][j] = 0\n",
    "        \n",
    "    return U, V"
   ]
  },
  {
   "cell_type": "code",
   "execution_count": 40,
   "metadata": {},
   "outputs": [
    {
     "name": "stdout",
     "output_type": "stream",
     "text": [
      "[[ 16.84932124  19.58164171  14.66441453 ...,  14.23465822  25.05618876\n",
      "   18.22694792]\n",
      " [ 15.60808004  22.97593149  16.59445448 ...,  19.36988334  20.34288701\n",
      "   18.2171086 ]\n",
      " [ 13.54039917  19.37277915  14.96406877 ...,  16.62243733  17.6194204\n",
      "   14.64908033]\n",
      " ..., \n",
      " [ 17.92418378  18.29416343  12.68642462 ...,  16.32528907  21.68799034\n",
      "   18.41137136]\n",
      " [ 15.00288159  19.39590316  14.80931265 ...,  17.50491965  25.92773641\n",
      "   18.8256885 ]\n",
      " [ 15.60428573  17.41304616  12.83951889 ...,  16.90438148  20.82806092\n",
      "   18.43054907]]\n"
     ]
    }
   ],
   "source": [
    "U, V = func(R, 40)\n",
    "#print U, V\n",
    "\n",
    "R1 = np.dot(U,V)\n",
    "\n",
    "print R1"
   ]
  },
  {
   "cell_type": "code",
   "execution_count": 41,
   "metadata": {},
   "outputs": [],
   "source": [
    "#U1 = np.random.randint(1, 10, (100, 40))\n",
    "#V1 = np.random.randint(1, 10, (40, 100))\n",
    "#R1 = np.dot(U1, V1)\n",
    "\n",
    "\n",
    "#U, V = func(R, 40)\n",
    "#R = np.dot(U, V)\n",
    "#print U1, V1\n",
    "#print U, V"
   ]
  },
  {
   "cell_type": "code",
   "execution_count": 42,
   "metadata": {},
   "outputs": [
    {
     "name": "stdout",
     "output_type": "stream",
     "text": [
      "11.434229092\n"
     ]
    }
   ],
   "source": [
    "from sklearn.metrics import mean_squared_error\n",
    "from math import sqrt\n",
    "\n",
    "rms = sqrt(mean_squared_error(R, R1))\n",
    "print rms"
   ]
  }
 ],
 "metadata": {
  "kernelspec": {
   "display_name": "Python 2",
   "language": "python",
   "name": "python2"
  },
  "language_info": {
   "codemirror_mode": {
    "name": "ipython",
    "version": 2
   },
   "file_extension": ".py",
   "mimetype": "text/x-python",
   "name": "python",
   "nbconvert_exporter": "python",
   "pygments_lexer": "ipython2",
   "version": "2.7.13"
  }
 },
 "nbformat": 4,
 "nbformat_minor": 2
}
