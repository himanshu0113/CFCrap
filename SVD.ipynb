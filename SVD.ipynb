{
 "cells": [
  {
   "cell_type": "code",
   "execution_count": null,
   "metadata": {
    "collapsed": true
   },
   "outputs": [],
   "source": [
    "R = []\n",
    "\n",
    "for i in R:\n",
    "    mean = mean(row)\n",
    "    for r in range(len(row)):\n",
    "        \n",
    "        if(row[r] == 0):\n",
    "            row[r] = mean"
   ]
  },
  {
   "cell_type": "code",
   "execution_count": 45,
   "metadata": {},
   "outputs": [
    {
     "name": "stdout",
     "output_type": "stream",
     "text": [
      "[ 0  0  0 ..., 99 99 99]\n",
      "[[4 1 4 ..., 1 2 1]\n",
      " [2 2 1 ..., 4 3 3]\n",
      " [1 2 3 ..., 2 1 4]\n",
      " ..., \n",
      " [1 1 4 ..., 3 2 2]\n",
      " [3 1 4 ..., 4 2 4]\n",
      " [1 2 2 ..., 3 2 4]]\n"
     ]
    }
   ],
   "source": [
    "import numpy as np\n",
    "R = np.random.randint(5, size = (100, 1000))\n",
    "R_zeros = np.where(R == 0)\n",
    "print R_zeros\n",
    "\n",
    "for i in range(len(R)):\n",
    "    mean = np.sum(R[i,:])/len(np.nonzero(R[i,:])[0])\n",
    "    for j in range(len(R[0])):\n",
    "        mean = (mean+ (np.sum(R[:,j])/len(np.nonzero(R[:,j])[0])))/2.0\n",
    "        if(R[i][j] == 0):\n",
    "            R[i][j] = mean\n",
    "print R"
   ]
  },
  {
   "cell_type": "code",
   "execution_count": 47,
   "metadata": {},
   "outputs": [
    {
     "name": "stdout",
     "output_type": "stream",
     "text": [
      "(100, 100) (100,) (1000, 1000)\n",
      "(100, 100) (100,) (1000, 1000)\n",
      "(100, 100) (100,) (1000, 1000)\n",
      "(100, 100) (100,) (1000, 1000)\n",
      "(100, 100) (100,) (1000, 1000)\n",
      "(100, 100) (100,) (1000, 1000)\n",
      "(100, 100) (100,) (1000, 1000)\n",
      "(100, 100) (100,) (1000, 1000)\n",
      "(100, 100) (100,) (1000, 1000)\n",
      "(100, 100) (100,) (1000, 1000)\n"
     ]
    }
   ],
   "source": [
    "RL = []\n",
    "temp = R\n",
    "for i in range(10):    \n",
    "    U, s, V = np.linalg.svd(temp, full_matrices=True)\n",
    "    print U.shape, s.shape, V.shape\n",
    "    s = np.diag(s)\n",
    "    #print s\n",
    "    d = 50\n",
    "    RL = np.dot(np.dot(U[:,1:d], s[1:d, 1:d]), V[:, 1:d].T)\n",
    "    \n",
    "    temp = RL\n",
    "    #print RL"
   ]
  },
  {
   "cell_type": "code",
   "execution_count": 37,
   "metadata": {},
   "outputs": [
    {
     "name": "stdout",
     "output_type": "stream",
     "text": [
      "2.68726475862\n"
     ]
    }
   ],
   "source": [
    "from sklearn.metrics import mean_squared_error\n",
    "from math import sqrt\n",
    "\n",
    "rms = sqrt(mean_squared_error(R, RL))\n",
    "print rms"
   ]
  },
  {
   "cell_type": "code",
   "execution_count": 41,
   "metadata": {},
   "outputs": [
    {
     "name": "stdout",
     "output_type": "stream",
     "text": [
      "3\n"
     ]
    }
   ],
   "source": [
    "a = len(np.nonzero([1,2,0,0,1,0])[0])\n",
    "print a"
   ]
  }
 ],
 "metadata": {
  "kernelspec": {
   "display_name": "Python 2",
   "language": "python",
   "name": "python2"
  },
  "language_info": {
   "codemirror_mode": {
    "name": "ipython",
    "version": 2
   },
   "file_extension": ".py",
   "mimetype": "text/x-python",
   "name": "python",
   "nbconvert_exporter": "python",
   "pygments_lexer": "ipython2",
   "version": "2.7.13"
  }
 },
 "nbformat": 4,
 "nbformat_minor": 2
}
